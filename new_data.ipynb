{
 "cells": [
  {
   "cell_type": "code",
   "execution_count": null,
   "metadata": {},
   "outputs": [
    {
     "ename": "",
     "evalue": "",
     "output_type": "error",
     "traceback": [
      "\u001b[1;31mRunning cells with 'Python 3.10.6 64-bit ('soundtrack_frontend_env')' requires ipykernel package.\n",
      "\u001b[1;31mRun the following command to install 'ipykernel' into the Python environment. \n",
      "\u001b[1;31mCommand: '/home/cgarc/.pyenv/versions/3.10.6/envs/soundtrack_frontend_env/bin/python -m pip install ipykernel -U --force-reinstall'"
     ]
    }
   ],
   "source": [
    "result = {'idx': [1870, 47, 7892, 11830, 2874]}"
   ]
  },
  {
   "cell_type": "code",
   "execution_count": null,
   "metadata": {},
   "outputs": [
    {
     "ename": "",
     "evalue": "",
     "output_type": "error",
     "traceback": [
      "\u001b[1;31mRunning cells with 'Python 3.10.6 64-bit ('soundtrack_frontend_env')' requires ipykernel package.\n",
      "\u001b[1;31mRun the following command to install 'ipykernel' into the Python environment. \n",
      "\u001b[1;31mCommand: '/home/cgarc/.pyenv/versions/3.10.6/envs/soundtrack_frontend_env/bin/python -m pip install ipykernel -U --force-reinstall'"
     ]
    }
   ],
   "source": [
    "def find_ost(films):\n",
    "    \"\"\"\n",
    "    Summary: Runs a query on the Discogs API for the film name to return full title,\n",
    "    year and genre of the same film\n",
    "    Input: name of the film -> list of lists\n",
    "    Return: Title, Year, Genre -> tuple\n",
    "    \"\"\"\n",
    "\n",
    "    consumer_key = os.getenv(\"CONSUMER_KEY\")\n",
    "    consumer_secret = os.getenv(\"CONSUMER_SECRET\")\n",
    "    ost_with_genres = {}\n",
    "    for film in films:\n",
    "        url = f'https://api.discogs.com/database/search?q={film}/'\n",
    "        params = {'key':consumer_key,\n",
    "                'secret':consumer_secret,\n",
    "                'type':'release',\n",
    "                'style':'soundtrack',\n",
    "                'format':'CD'\n",
    "                }\n",
    "        response = requests.get(url,params=params)\n",
    "\n",
    "        if response.status_code != 200:\n",
    "            print(response.status_code)\n",
    "            return 'Error'\n",
    "\n",
    "        data = response.json()['results'][0]\n",
    "\n",
    "\n",
    "        try:\n",
    "            genre = data['genres']\n",
    "        except KeyError:\n",
    "            genre = data['genre']\n",
    "        except:\n",
    "            genre = 'OST'\n",
    "\n",
    "        ost_with_genres[data['title']] = genre\n",
    "\n",
    "    return full_titles, genres"
   ]
  }
 ],
 "metadata": {
  "kernelspec": {
   "display_name": "Python 3.10.6 64-bit ('soundtrack_frontend_env')",
   "language": "python",
   "name": "python3"
  },
  "language_info": {
   "name": "python",
   "version": "3.10.6"
  },
  "orig_nbformat": 4,
  "vscode": {
   "interpreter": {
    "hash": "be5ddaaad73ddfe36e7f5e6b39c60cbcedb97d4b7827f616174d8f71836df8a0"
   }
  }
 },
 "nbformat": 4,
 "nbformat_minor": 2
}
